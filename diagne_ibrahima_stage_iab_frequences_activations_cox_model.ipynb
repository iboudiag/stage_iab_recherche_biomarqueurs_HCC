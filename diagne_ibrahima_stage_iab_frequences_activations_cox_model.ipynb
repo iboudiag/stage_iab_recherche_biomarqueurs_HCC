{
 "cells": [
  {
   "cell_type": "markdown",
   "id": "3a28140e",
   "metadata": {},
   "source": [
    "## Sélection des gènes fréquemment activés dans le cancer du foie et modèle de Cox:"
   ]
  },
  {
   "cell_type": "markdown",
   "id": "6d4e59d4",
   "metadata": {},
   "source": [
    "### Importation des données:"
   ]
  },
  {
   "cell_type": "code",
   "execution_count": 1,
   "id": "4ce2eff5",
   "metadata": {},
   "outputs": [],
   "source": [
    "# importations de quelques bibliothèques\n",
    "\n",
    "import numpy as np\n",
    "import pandas as pd\n",
    "import matplotlib.pyplot as plt"
   ]
  },
  {
   "cell_type": "code",
   "execution_count": 2,
   "id": "bb7c5582",
   "metadata": {},
   "outputs": [
    {
     "name": "stdout",
     "output_type": "stream",
     "text": [
      "['A4GNT' 'AADACL2' 'AANAT' ... 'ZSCAN23' 'ZSCAN5A' 'ZSWIM2']\n",
      "3177\n"
     ]
    }
   ],
   "source": [
    "# genes spécifiques de tissus prédominants\n",
    "\n",
    "specific_gene = pd.read_csv(\"gene_data.csv\", sep='\\t')\n",
    "specific_gene = specific_gene['Gènes retenues'].values\n",
    "print(specific_gene)\n",
    "print(len(specific_gene))"
   ]
  },
  {
   "cell_type": "code",
   "execution_count": 3,
   "id": "50ad712c",
   "metadata": {},
   "outputs": [],
   "source": [
    "# Lecture du fichier Excel des données cliniques\n",
    "\n",
    "data = pd.read_excel(\"C:/Users/DIAGNE Ibrahima/Desktop/Stage_IAB_2024/Groups.xlsx\")"
   ]
  },
  {
   "cell_type": "markdown",
   "id": "c5f65f12",
   "metadata": {},
   "source": [
    "**Nettoyage de données:**"
   ]
  },
  {
   "cell_type": "code",
   "execution_count": 4,
   "id": "f28b6f7d",
   "metadata": {},
   "outputs": [],
   "source": [
    "# remplacer les NAN par des 0\n",
    "\n",
    "data['NT'] = data['NT'].fillna(0)\n",
    "data['All-tumours'] = data['All-tumours'].fillna(0)"
   ]
  },
  {
   "cell_type": "code",
   "execution_count": 5,
   "id": "3ee274bd",
   "metadata": {},
   "outputs": [],
   "source": [
    "# typage en entier\n",
    "\n",
    "data['NT'] = data['NT'].astype(int)\n",
    "data['All-tumours'] = data['All-tumours'].astype(int)"
   ]
  },
  {
   "cell_type": "markdown",
   "id": "cdf522c4",
   "metadata": {},
   "source": [
    "### dataset \"TCGA-LIHC\""
   ]
  },
  {
   "cell_type": "code",
   "execution_count": 6,
   "id": "a2d22339",
   "metadata": {},
   "outputs": [],
   "source": [
    "# données cliniques du dataset \"TCGA-LIHC\"\n",
    "\n",
    "normal_data_TCGA_LIHC = data[(data['dataset'] == \"TCGA-LIHC\") & (data['NT'] == 1)]\n",
    "tumoral_data_TCGA_LIHC = data[(data['dataset'] == \"TCGA-LIHC\") & (data['All-tumours'] == 1)]"
   ]
  },
  {
   "cell_type": "code",
   "execution_count": 7,
   "id": "08ca0209",
   "metadata": {},
   "outputs": [
    {
     "data": {
      "text/html": [
       "<div>\n",
       "<style scoped>\n",
       "    .dataframe tbody tr th:only-of-type {\n",
       "        vertical-align: middle;\n",
       "    }\n",
       "\n",
       "    .dataframe tbody tr th {\n",
       "        vertical-align: top;\n",
       "    }\n",
       "\n",
       "    .dataframe thead th {\n",
       "        text-align: right;\n",
       "    }\n",
       "</style>\n",
       "<table border=\"1\" class=\"dataframe\">\n",
       "  <thead>\n",
       "    <tr style=\"text-align: right;\">\n",
       "      <th></th>\n",
       "      <th>id_gene</th>\n",
       "      <th>gene_symbol</th>\n",
       "      <th>TCGA-2V-A95S-01A</th>\n",
       "      <th>TCGA-2Y-A9GS-01A</th>\n",
       "      <th>TCGA-2Y-A9GT-01A</th>\n",
       "      <th>TCGA-2Y-A9GU-01A</th>\n",
       "      <th>TCGA-2Y-A9GV-01A</th>\n",
       "      <th>TCGA-2Y-A9GW-01A</th>\n",
       "      <th>TCGA-2Y-A9GX-01A</th>\n",
       "      <th>TCGA-2Y-A9GY-01A</th>\n",
       "      <th>...</th>\n",
       "      <th>TCGA-ZP-A9CZ-01A</th>\n",
       "      <th>TCGA-ZP-A9D0-01A</th>\n",
       "      <th>TCGA-ZP-A9D1-01A</th>\n",
       "      <th>TCGA-ZP-A9D2-01A</th>\n",
       "      <th>TCGA-ZP-A9D4-01A</th>\n",
       "      <th>TCGA-ZS-A9CD-01A</th>\n",
       "      <th>TCGA-ZS-A9CE-01A</th>\n",
       "      <th>TCGA-ZS-A9CF-01A</th>\n",
       "      <th>TCGA-ZS-A9CF-02A</th>\n",
       "      <th>TCGA-ZS-A9CG-01A</th>\n",
       "    </tr>\n",
       "  </thead>\n",
       "  <tbody>\n",
       "    <tr>\n",
       "      <th>9</th>\n",
       "      <td>15</td>\n",
       "      <td>AANAT</td>\n",
       "      <td>0.092072</td>\n",
       "      <td>0.185105</td>\n",
       "      <td>0.016782</td>\n",
       "      <td>0.016354</td>\n",
       "      <td>0.057831</td>\n",
       "      <td>0.075875</td>\n",
       "      <td>0.014927</td>\n",
       "      <td>0.199500</td>\n",
       "      <td>...</td>\n",
       "      <td>0.044884</td>\n",
       "      <td>0.025738</td>\n",
       "      <td>0.000000</td>\n",
       "      <td>0.060324</td>\n",
       "      <td>0.038858</td>\n",
       "      <td>0.016782</td>\n",
       "      <td>0.000000</td>\n",
       "      <td>0.032524</td>\n",
       "      <td>0.088006</td>\n",
       "      <td>0.000000</td>\n",
       "    </tr>\n",
       "    <tr>\n",
       "      <th>34</th>\n",
       "      <td>41</td>\n",
       "      <td>ASIC1</td>\n",
       "      <td>0.092072</td>\n",
       "      <td>0.566474</td>\n",
       "      <td>0.037593</td>\n",
       "      <td>0.072037</td>\n",
       "      <td>0.022048</td>\n",
       "      <td>0.181166</td>\n",
       "      <td>0.164143</td>\n",
       "      <td>1.046421</td>\n",
       "      <td>...</td>\n",
       "      <td>0.146395</td>\n",
       "      <td>0.103531</td>\n",
       "      <td>0.088413</td>\n",
       "      <td>0.340391</td>\n",
       "      <td>0.273217</td>\n",
       "      <td>0.043484</td>\n",
       "      <td>0.015498</td>\n",
       "      <td>0.012354</td>\n",
       "      <td>0.071900</td>\n",
       "      <td>1.554392</td>\n",
       "    </tr>\n",
       "    <tr>\n",
       "      <th>38</th>\n",
       "      <td>49</td>\n",
       "      <td>ACR</td>\n",
       "      <td>0.000000</td>\n",
       "      <td>0.099632</td>\n",
       "      <td>0.258338</td>\n",
       "      <td>0.033934</td>\n",
       "      <td>0.192194</td>\n",
       "      <td>0.139469</td>\n",
       "      <td>0.046142</td>\n",
       "      <td>0.062536</td>\n",
       "      <td>...</td>\n",
       "      <td>0.046840</td>\n",
       "      <td>0.040261</td>\n",
       "      <td>0.106884</td>\n",
       "      <td>0.477885</td>\n",
       "      <td>0.523662</td>\n",
       "      <td>0.150040</td>\n",
       "      <td>0.094506</td>\n",
       "      <td>0.000000</td>\n",
       "      <td>0.311271</td>\n",
       "      <td>0.597412</td>\n",
       "    </tr>\n",
       "  </tbody>\n",
       "</table>\n",
       "<p>3 rows × 441 columns</p>\n",
       "</div>"
      ],
      "text/plain": [
       "    id_gene gene_symbol  TCGA-2V-A95S-01A  TCGA-2Y-A9GS-01A  TCGA-2Y-A9GT-01A  \\\n",
       "9        15       AANAT          0.092072          0.185105          0.016782   \n",
       "34       41       ASIC1          0.092072          0.566474          0.037593   \n",
       "38       49         ACR          0.000000          0.099632          0.258338   \n",
       "\n",
       "    TCGA-2Y-A9GU-01A  TCGA-2Y-A9GV-01A  TCGA-2Y-A9GW-01A  TCGA-2Y-A9GX-01A  \\\n",
       "9           0.016354          0.057831          0.075875          0.014927   \n",
       "34          0.072037          0.022048          0.181166          0.164143   \n",
       "38          0.033934          0.192194          0.139469          0.046142   \n",
       "\n",
       "    TCGA-2Y-A9GY-01A  ...  TCGA-ZP-A9CZ-01A  TCGA-ZP-A9D0-01A  \\\n",
       "9           0.199500  ...          0.044884          0.025738   \n",
       "34          1.046421  ...          0.146395          0.103531   \n",
       "38          0.062536  ...          0.046840          0.040261   \n",
       "\n",
       "    TCGA-ZP-A9D1-01A  TCGA-ZP-A9D2-01A  TCGA-ZP-A9D4-01A  TCGA-ZS-A9CD-01A  \\\n",
       "9           0.000000          0.060324          0.038858          0.016782   \n",
       "34          0.088413          0.340391          0.273217          0.043484   \n",
       "38          0.106884          0.477885          0.523662          0.150040   \n",
       "\n",
       "    TCGA-ZS-A9CE-01A  TCGA-ZS-A9CF-01A  TCGA-ZS-A9CF-02A  TCGA-ZS-A9CG-01A  \n",
       "9           0.000000          0.032524          0.088006          0.000000  \n",
       "34          0.015498          0.012354          0.071900          1.554392  \n",
       "38          0.094506          0.000000          0.311271          0.597412  \n",
       "\n",
       "[3 rows x 441 columns]"
      ]
     },
     "execution_count": 7,
     "metadata": {},
     "output_type": "execute_result"
    }
   ],
   "source": [
    "# dataset \"TCGA-LIHC\"\n",
    "\n",
    "expression_data_TCGA_LIHC = pd.read_csv(\"C:/Users/DIAGNE Ibrahima/Desktop/Stage_IAB_2024/data/expression_data_tcga_lihc_TCGA-LIHC_log_fpkm_439_samples_43022_genes.csv\", sep=\";\")\n",
    "\n",
    "# données d'expression concernant les gènes spécifiques\n",
    "expression_data_TCGA_LIHC = expression_data_TCGA_LIHC[expression_data_TCGA_LIHC['gene_symbol'].isin(specific_gene)]\n",
    "expression_data_TCGA_LIHC.head(3)"
   ]
  },
  {
   "cell_type": "markdown",
   "id": "7f6d9e3f",
   "metadata": {},
   "source": [
    "### dataset \"GSE121248\""
   ]
  },
  {
   "cell_type": "code",
   "execution_count": 8,
   "id": "230fd897",
   "metadata": {},
   "outputs": [],
   "source": [
    "# données cliniques du dataset \"GSE121248\"\n",
    "\n",
    "normal_data_GSE121248 = data[(data['dataset'] == \"GSE121248\") & (data['NT'] == 1)]\n",
    "tumoral_data_GSE121248 = data[(data['dataset'] == \"GSE121248\") & (data['All-tumours'] == 1)]"
   ]
  },
  {
   "cell_type": "code",
   "execution_count": 9,
   "id": "8097f631",
   "metadata": {},
   "outputs": [],
   "source": [
    "# données d'expression du dataset \"GSE121248\"\n",
    "\n",
    "expression_data_GSE121248 = pd.read_csv(\"C:/Users/DIAGNE Ibrahima/Desktop/Stage_IAB_2024/data/expression_data_GSE121248_GSE121248_log_expression_107_samples_21872_genes.csv\", sep=\";\")\n",
    "\n",
    "expression_data_GSE121248 = expression_data_GSE121248[expression_data_GSE121248['gene_symbol'].isin(specific_gene)]"
   ]
  },
  {
   "cell_type": "markdown",
   "id": "336b6937",
   "metadata": {},
   "source": [
    "### dataset \"GSE76427\""
   ]
  },
  {
   "cell_type": "code",
   "execution_count": 10,
   "id": "990857b7",
   "metadata": {},
   "outputs": [],
   "source": [
    "# données cliniques du dataset \"GSE76427\"\n",
    "\n",
    "normal_data_GSE76427 = data[(data['dataset'] == \"GSE76427\") & (data['NT'] == 1)]\n",
    "tumoral_data_GSE76427 = data[(data['dataset'] == \"GSE76427\") & (data['All-tumours'] == 1)]"
   ]
  },
  {
   "cell_type": "code",
   "execution_count": 11,
   "id": "c9d721ad",
   "metadata": {},
   "outputs": [],
   "source": [
    "# données d'expression du dataset \"GSE76427\" \n",
    "\n",
    "expression_data_GSE76427 = pd.read_csv(\"C:/Users/DIAGNE Ibrahima/Desktop/Stage_IAB_2024/data/expression_data_GSE76427_GSE76427_log_expression_167_samples_30499_genes.csv\", sep=\";\")\n",
    "\n",
    "expression_data_GSE76427 = expression_data_GSE76427[expression_data_GSE76427['gene_symbol'].isin(specific_gene)]"
   ]
  },
  {
   "cell_type": "markdown",
   "id": "8b6e4311",
   "metadata": {},
   "source": [
    "**Ci-après, nous allons créer une fonction qui permet de calculer les fréquences d'activations des gènes dans les différents datasets.**"
   ]
  },
  {
   "cell_type": "code",
   "execution_count": 12,
   "id": "17581bb7",
   "metadata": {},
   "outputs": [],
   "source": [
    "# dans la préparation, mettre gene_symbol en index dans expression_data\n",
    "\n",
    "def frequent_genes(expression_data, normal_data,tumoral_data):\n",
    "    \n",
    "    '''\n",
    "    normal_data: données cliniques(EpiMed_experimental_grouping pour les échantillons normaux)\n",
    "    \n",
    "    tumoral_data: données cliniques(EpiMed_experimental_grouping pour les échantillons tumoraux)\n",
    "    \n",
    "    expression_data: données d'expressions de gènes\n",
    "    \n",
    "    '''\n",
    "\n",
    "    # Préparation d'une liste pour les indices de colonnes correspondants\n",
    "    selected_columns = [col for col in normal_data['id_sample'].unique() if col in expression_data.columns]\n",
    "\n",
    "    # Sélection des données basées sur les colonnes correspondantes plus la colonne gene_symbol'\n",
    "    normal_data_sample = expression_data[['gene_symbol'] + selected_columns]\n",
    "    normal_data_sample=normal_data_sample.dropna(how='all', axis=1) # drop nan \n",
    "    \n",
    "    # Mettre la colonne 'gene_symbol' comme index du DataFrame\n",
    "    normal_data_sample = normal_data_sample.set_index('gene_symbol')\n",
    "\n",
    "    # Préparation d'une liste pour les indices de colonnes correspondants\n",
    "    selected_columns = [col for col in tumoral_data['id_sample'].unique() if col in expression_data.columns]\n",
    "\n",
    "    # Sélection des données basées sur les colonnes correspondantes plus les colonnes 'id_gene' et 'gene_symbol'\n",
    "    tumoral_data_sample = expression_data[['gene_symbol'] + selected_columns]\n",
    "    tumoral_data_sample=tumoral_data_sample.dropna(how='all', axis=1) # drop nan \n",
    "    \n",
    "    # Mettre la colonne 'gene_symbol' comme index du DataFrame\n",
    "    tumoral_data_sample = tumoral_data_sample.set_index('gene_symbol')\n",
    "    \n",
    "    # Création d'un DataFrame vide avec les colonnes spécifiées pour les fréquences d'activaion NT\n",
    "    frequence_norm = pd.DataFrame(columns=[\"gene_symbol\", \"seuil_normal\", \"freq_normal\", \"pourcentile_normal\"])\n",
    "    \n",
    "    N1 = normal_data_sample.shape[1] # nombre de colonnes du tableau\n",
    "    \n",
    "    # Boucler sur chaque ligne de normal_data_sample\n",
    "    for i in range(normal_data_sample.shape[0]):\n",
    "        \n",
    "        # le symbole du gène\n",
    "        gene_symbol = normal_data_sample.index[i]\n",
    "        \n",
    "        # Calculer le seuil_normal comme la moyenne + 2*écart-type\n",
    "        seuil_normal = normal_data_sample.iloc[i,:].mean() + 2 * normal_data_sample.iloc[i,:].std()\n",
    "        \n",
    "        # Calculer freq_normal comme le pourcentage de valeurs au-delà du seuil dans les colonnes\n",
    "        freq_normal = np.sum(normal_data_sample.iloc[i, :] > seuil_normal) * 100 / N1\n",
    "        \n",
    "        # Calculer pourcentile_normal comme 100 - freq_normal\n",
    "        pourcentile_normal = 100 - freq_normal\n",
    "        \n",
    "        # Ajouter ces valeurs au dataframe frequence\n",
    "        new_line = pd.DataFrame([{ \"gene_symbol\": gene_symbol, \n",
    "                                      \"seuil_normal\": seuil_normal, \n",
    "                                      \"freq_normal\": freq_normal, \n",
    "                                      \"pourcentile_normal\": pourcentile_normal}])\n",
    "        frequence_norm = pd.concat([frequence_norm, new_line], ignore_index=True)\n",
    "        \n",
    "    frequence_norm=frequence_norm.set_index('gene_symbol') # gene_symbol en index\n",
    "    \n",
    "    # Création d'un DataFrame vide avec les colonnes spécifiées pour les fréquences d'activation T(tumoral)\n",
    "    frequence_tumo = pd.DataFrame(columns=[\"gene_symbol\", \"seuil_normal\", \"freq_tumoral\", \"pourcentile_tumoral\"])\n",
    "    \n",
    "    N2 = tumoral_data_sample.shape[1] # nombre de colonnes du tableau\n",
    "    \n",
    "    # Boucler sur chaque ligne\n",
    "    for i in range(tumoral_data_sample.shape[0]):\n",
    "        \n",
    "        # Extraire le symbole du gène\n",
    "        gene_symbol = tumoral_data_sample.index[i]\n",
    "        \n",
    "        # Calculer le seuil_normal comme la moyenne + 2*écart-type \n",
    "        seuil_normal = normal_data_sample.iloc[i, :].mean() + 2 * normal_data_sample.iloc[i, :].std()\n",
    "        \n",
    "        # Calculer freq_normal comme le pourcentage de valeurs au-delà du seuil dans les colonnes\n",
    "        freq_tumoral = np.sum(tumoral_data_sample.iloc[i, :] > seuil_normal) * 100 / N2\n",
    "        \n",
    "        # Calculer pourcentile_tumoral comme 100 - freq_tumoral\n",
    "        pourcentile_tumoral = 100 - freq_tumoral\n",
    "        \n",
    "        # Ajouter ces valeurs au dataframe frequence\n",
    "        new_line = pd.DataFrame([{\"gene_symbol\": gene_symbol, \n",
    "                                      \"seuil_normal\": seuil_normal, \n",
    "                                      \"freq_tumoral\": freq_tumoral, \n",
    "                                      \"pourcentile_tumoral\": pourcentile_tumoral}])\n",
    "        frequence_tumo = pd.concat([frequence_tumo, new_line], ignore_index=True)\n",
    "        \n",
    "    frequence_tumo=frequence_tumo.set_index('gene_symbol') # gene_symbol en index\n",
    "    \n",
    "    # fréquences des gènes qui respectent les conditions(<5 pour NT et >10 pour T)\n",
    "    list_data_tumo = frequence_tumo[frequence_tumo['freq_tumoral'] > 10]\n",
    "    list_data_norm = frequence_norm[frequence_norm['freq_normal'] < 5]\n",
    "    \n",
    "    selected_genes=[gene for gene in list_data_norm.index.unique() if gene in list_data_tumo.index]\n",
    "    gene_datas=pd.DataFrame(selected_genes, columns=['Gene_symbol'])\n",
    "    \n",
    "    return gene_datas\n",
    "    "
   ]
  },
  {
   "cell_type": "markdown",
   "id": "0222c00c",
   "metadata": {},
   "source": [
    "La fonction frequent_genes renvoie un DataFrame contenant la liste des gènes pour lesquels la fréquence d'activation est > 10% dans les chantillons de tumeur et < 5% dans les échantillons normaux. "
   ]
  },
  {
   "cell_type": "markdown",
   "id": "a51c9b28",
   "metadata": {},
   "source": [
    "## Application de la fonction \"frequent_genes\"  sur les datasets:"
   ]
  },
  {
   "cell_type": "markdown",
   "id": "d70e7a28",
   "metadata": {},
   "source": [
    "**Pour le dataset TCGA-LIHC**"
   ]
  },
  {
   "cell_type": "code",
   "execution_count": 13,
   "id": "6ef3f146",
   "metadata": {},
   "outputs": [
    {
     "name": "stdout",
     "output_type": "stream",
     "text": [
      "(1282, 1)\n"
     ]
    },
    {
     "data": {
      "text/html": [
       "<div>\n",
       "<style scoped>\n",
       "    .dataframe tbody tr th:only-of-type {\n",
       "        vertical-align: middle;\n",
       "    }\n",
       "\n",
       "    .dataframe tbody tr th {\n",
       "        vertical-align: top;\n",
       "    }\n",
       "\n",
       "    .dataframe thead th {\n",
       "        text-align: right;\n",
       "    }\n",
       "</style>\n",
       "<table border=\"1\" class=\"dataframe\">\n",
       "  <thead>\n",
       "    <tr style=\"text-align: right;\">\n",
       "      <th></th>\n",
       "      <th>Gene_symbol</th>\n",
       "    </tr>\n",
       "  </thead>\n",
       "  <tbody>\n",
       "    <tr>\n",
       "      <th>0</th>\n",
       "      <td>ASIC1</td>\n",
       "    </tr>\n",
       "    <tr>\n",
       "      <th>1</th>\n",
       "      <td>ACR</td>\n",
       "    </tr>\n",
       "    <tr>\n",
       "      <th>2</th>\n",
       "      <td>ACTC1</td>\n",
       "    </tr>\n",
       "    <tr>\n",
       "      <th>3</th>\n",
       "      <td>ACTN3</td>\n",
       "    </tr>\n",
       "    <tr>\n",
       "      <th>4</th>\n",
       "      <td>ADD2</td>\n",
       "    </tr>\n",
       "  </tbody>\n",
       "</table>\n",
       "</div>"
      ],
      "text/plain": [
       "  Gene_symbol\n",
       "0       ASIC1\n",
       "1         ACR\n",
       "2       ACTC1\n",
       "3       ACTN3\n",
       "4        ADD2"
      ]
     },
     "execution_count": 13,
     "metadata": {},
     "output_type": "execute_result"
    }
   ],
   "source": [
    "genes_data_TCGA_LIHC = frequent_genes(expression_data_TCGA_LIHC, normal_data_TCGA_LIHC, tumoral_data_TCGA_LIHC)\n",
    "\n",
    "print(genes_data_TCGA_LIHC.shape)\n",
    "genes_data_TCGA_LIHC.head()"
   ]
  },
  {
   "cell_type": "markdown",
   "id": "e0ffe121",
   "metadata": {},
   "source": [
    "**Pour le dataset GSE121248**"
   ]
  },
  {
   "cell_type": "code",
   "execution_count": 14,
   "id": "632c1b46",
   "metadata": {},
   "outputs": [
    {
     "name": "stdout",
     "output_type": "stream",
     "text": [
      "(489, 1)\n"
     ]
    },
    {
     "data": {
      "text/html": [
       "<div>\n",
       "<style scoped>\n",
       "    .dataframe tbody tr th:only-of-type {\n",
       "        vertical-align: middle;\n",
       "    }\n",
       "\n",
       "    .dataframe tbody tr th {\n",
       "        vertical-align: top;\n",
       "    }\n",
       "\n",
       "    .dataframe thead th {\n",
       "        text-align: right;\n",
       "    }\n",
       "</style>\n",
       "<table border=\"1\" class=\"dataframe\">\n",
       "  <thead>\n",
       "    <tr style=\"text-align: right;\">\n",
       "      <th></th>\n",
       "      <th>Gene_symbol</th>\n",
       "    </tr>\n",
       "  </thead>\n",
       "  <tbody>\n",
       "    <tr>\n",
       "      <th>0</th>\n",
       "      <td>ASIC1</td>\n",
       "    </tr>\n",
       "    <tr>\n",
       "      <th>1</th>\n",
       "      <td>ACAN</td>\n",
       "    </tr>\n",
       "    <tr>\n",
       "      <th>2</th>\n",
       "      <td>ANXA13</td>\n",
       "    </tr>\n",
       "    <tr>\n",
       "      <th>3</th>\n",
       "      <td>AQP8</td>\n",
       "    </tr>\n",
       "    <tr>\n",
       "      <th>4</th>\n",
       "      <td>BMP8B</td>\n",
       "    </tr>\n",
       "  </tbody>\n",
       "</table>\n",
       "</div>"
      ],
      "text/plain": [
       "  Gene_symbol\n",
       "0       ASIC1\n",
       "1        ACAN\n",
       "2      ANXA13\n",
       "3        AQP8\n",
       "4       BMP8B"
      ]
     },
     "execution_count": 14,
     "metadata": {},
     "output_type": "execute_result"
    }
   ],
   "source": [
    "genes_data_GSE121248 = frequent_genes(expression_data_GSE121248, normal_data_GSE121248, tumoral_data_GSE121248)\n",
    "\n",
    "print(genes_data_GSE121248.shape)\n",
    "genes_data_GSE121248.head()"
   ]
  },
  {
   "cell_type": "markdown",
   "id": "b62a1413",
   "metadata": {},
   "source": [
    "**Pour le dataset GSE76427**"
   ]
  },
  {
   "cell_type": "code",
   "execution_count": 15,
   "id": "36730b87",
   "metadata": {},
   "outputs": [
    {
     "name": "stdout",
     "output_type": "stream",
     "text": [
      "(370, 1)\n"
     ]
    },
    {
     "data": {
      "text/html": [
       "<div>\n",
       "<style scoped>\n",
       "    .dataframe tbody tr th:only-of-type {\n",
       "        vertical-align: middle;\n",
       "    }\n",
       "\n",
       "    .dataframe tbody tr th {\n",
       "        vertical-align: top;\n",
       "    }\n",
       "\n",
       "    .dataframe thead th {\n",
       "        text-align: right;\n",
       "    }\n",
       "</style>\n",
       "<table border=\"1\" class=\"dataframe\">\n",
       "  <thead>\n",
       "    <tr style=\"text-align: right;\">\n",
       "      <th></th>\n",
       "      <th>Gene_symbol</th>\n",
       "    </tr>\n",
       "  </thead>\n",
       "  <tbody>\n",
       "    <tr>\n",
       "      <th>0</th>\n",
       "      <td>ASIC1</td>\n",
       "    </tr>\n",
       "    <tr>\n",
       "      <th>1</th>\n",
       "      <td>AGRP</td>\n",
       "    </tr>\n",
       "    <tr>\n",
       "      <th>2</th>\n",
       "      <td>ANXA2P1</td>\n",
       "    </tr>\n",
       "    <tr>\n",
       "      <th>3</th>\n",
       "      <td>AQP8</td>\n",
       "    </tr>\n",
       "    <tr>\n",
       "      <th>4</th>\n",
       "      <td>AQP4</td>\n",
       "    </tr>\n",
       "  </tbody>\n",
       "</table>\n",
       "</div>"
      ],
      "text/plain": [
       "  Gene_symbol\n",
       "0       ASIC1\n",
       "1        AGRP\n",
       "2     ANXA2P1\n",
       "3        AQP8\n",
       "4        AQP4"
      ]
     },
     "execution_count": 15,
     "metadata": {},
     "output_type": "execute_result"
    }
   ],
   "source": [
    "genes_data_GSE76427 = frequent_genes(expression_data_GSE76427, normal_data_GSE76427, tumoral_data_GSE76427)\n",
    "\n",
    "print(genes_data_GSE76427.shape)\n",
    "genes_data_GSE76427.head()"
   ]
  },
  {
   "cell_type": "markdown",
   "id": "8d5d0554",
   "metadata": {},
   "source": [
    "### Croisement(ou intersection) de nos trois résultats:"
   ]
  },
  {
   "cell_type": "code",
   "execution_count": null,
   "id": "3a561459",
   "metadata": {},
   "outputs": [],
   "source": []
  },
  {
   "cell_type": "code",
   "execution_count": 18,
   "id": "98dedc1c",
   "metadata": {},
   "outputs": [],
   "source": [
    "# Convertir les valeurs en ensembles pour des opérations d'intersection plus rapides\n",
    "\n",
    "genes_data_GSE76427_vals = genes_data_GSE76427['Gene_symbol'].values\n",
    "genes_data_GSE121248_vals = genes_data_GSE121248['Gene_symbol'].values\n",
    "genes_data_TCGA_LIHC_vals = genes_data_TCGA_LIHC['Gene_symbol'].values"
   ]
  },
  {
   "cell_type": "code",
   "execution_count": 19,
   "id": "674196ad",
   "metadata": {},
   "outputs": [
    {
     "data": {
      "text/plain": [
       "109"
      ]
     },
     "execution_count": 19,
     "metadata": {},
     "output_type": "execute_result"
    }
   ],
   "source": [
    "# Trouver l'intersection des trois ensembles\n",
    "selected_genes=[gene for gene in genes_data_GSE76427_vals if (gene in genes_data_GSE121248_vals) & (gene in genes_data_TCGA_LIHC_vals)]\n",
    "len(selected_genes)"
   ]
  },
  {
   "cell_type": "code",
   "execution_count": 20,
   "id": "597ebbcc",
   "metadata": {},
   "outputs": [
    {
     "data": {
      "text/html": [
       "<div>\n",
       "<style scoped>\n",
       "    .dataframe tbody tr th:only-of-type {\n",
       "        vertical-align: middle;\n",
       "    }\n",
       "\n",
       "    .dataframe tbody tr th {\n",
       "        vertical-align: top;\n",
       "    }\n",
       "\n",
       "    .dataframe thead th {\n",
       "        text-align: right;\n",
       "    }\n",
       "</style>\n",
       "<table border=\"1\" class=\"dataframe\">\n",
       "  <thead>\n",
       "    <tr style=\"text-align: right;\">\n",
       "      <th></th>\n",
       "      <th>0</th>\n",
       "    </tr>\n",
       "  </thead>\n",
       "  <tbody>\n",
       "    <tr>\n",
       "      <th>0</th>\n",
       "      <td>ASIC1</td>\n",
       "    </tr>\n",
       "    <tr>\n",
       "      <th>1</th>\n",
       "      <td>AQP8</td>\n",
       "    </tr>\n",
       "    <tr>\n",
       "      <th>2</th>\n",
       "      <td>CYP27B1</td>\n",
       "    </tr>\n",
       "    <tr>\n",
       "      <th>3</th>\n",
       "      <td>SLC26A3</td>\n",
       "    </tr>\n",
       "    <tr>\n",
       "      <th>4</th>\n",
       "      <td>DSG1</td>\n",
       "    </tr>\n",
       "  </tbody>\n",
       "</table>\n",
       "</div>"
      ],
      "text/plain": [
       "         0\n",
       "0    ASIC1\n",
       "1     AQP8\n",
       "2  CYP27B1\n",
       "3  SLC26A3\n",
       "4     DSG1"
      ]
     },
     "execution_count": 20,
     "metadata": {},
     "output_type": "execute_result"
    }
   ],
   "source": [
    "selected_genes = pd.DataFrame(selected_genes)\n",
    "selected_genes.head()"
   ]
  },
  {
   "cell_type": "code",
   "execution_count": 20,
   "id": "48ca00e1",
   "metadata": {},
   "outputs": [],
   "source": [
    "selected_genes.to_csv('gene_symbol.csv', index=False, header=False, sep=';')"
   ]
  },
  {
   "cell_type": "code",
   "execution_count": 2,
   "id": "f4406229",
   "metadata": {},
   "outputs": [
    {
     "name": "stdout",
     "output_type": "stream",
     "text": [
      "Requirement already satisfied: matplotlib in c:\\users\\diagne ibrahima\\anaconda3\\lib\\site-packages (3.5.2)Note: you may need to restart the kernel to use updated packages.\n",
      "\n",
      "Collecting matplotlib-venn\n",
      "  Downloading matplotlib_venn-0.11.10-py3-none-any.whl (33 kB)\n",
      "Requirement already satisfied: packaging>=20.0 in c:\\users\\diagne ibrahima\\anaconda3\\lib\\site-packages (from matplotlib) (21.3)\n",
      "Requirement already satisfied: kiwisolver>=1.0.1 in c:\\users\\diagne ibrahima\\anaconda3\\lib\\site-packages (from matplotlib) (1.4.2)\n",
      "Requirement already satisfied: numpy>=1.17 in c:\\users\\diagne ibrahima\\anaconda3\\lib\\site-packages (from matplotlib) (1.24.4)\n",
      "Requirement already satisfied: cycler>=0.10 in c:\\users\\diagne ibrahima\\anaconda3\\lib\\site-packages (from matplotlib) (0.11.0)\n",
      "Requirement already satisfied: pillow>=6.2.0 in c:\\users\\diagne ibrahima\\anaconda3\\lib\\site-packages (from matplotlib) (9.2.0)\n",
      "Requirement already satisfied: pyparsing>=2.2.1 in c:\\users\\diagne ibrahima\\anaconda3\\lib\\site-packages (from matplotlib) (3.0.9)\n",
      "Requirement already satisfied: fonttools>=4.22.0 in c:\\users\\diagne ibrahima\\anaconda3\\lib\\site-packages (from matplotlib) (4.25.0)\n",
      "Requirement already satisfied: python-dateutil>=2.7 in c:\\users\\diagne ibrahima\\anaconda3\\lib\\site-packages (from matplotlib) (2.8.2)\n",
      "Requirement already satisfied: scipy in c:\\users\\diagne ibrahima\\anaconda3\\lib\\site-packages (from matplotlib-venn) (1.9.1)\n",
      "Requirement already satisfied: six>=1.5 in c:\\users\\diagne ibrahima\\anaconda3\\lib\\site-packages (from python-dateutil>=2.7->matplotlib) (1.16.0)\n",
      "Installing collected packages: matplotlib-venn\n",
      "Successfully installed matplotlib-venn-0.11.10\n"
     ]
    }
   ],
   "source": [
    "pip install matplotlib matplotlib-venn"
   ]
  },
  {
   "cell_type": "code",
   "execution_count": 21,
   "id": "60a61ac2",
   "metadata": {},
   "outputs": [],
   "source": [
    "import matplotlib.pyplot as plt\n",
    "from matplotlib_venn import venn3\n",
    "from matplotlib.lines import Line2D"
   ]
  },
  {
   "cell_type": "code",
   "execution_count": 34,
   "id": "d7ad5e8b",
   "metadata": {},
   "outputs": [
    {
     "data": {
      "image/png": "[encoded data removed]",
      "text/plain": [
       "<Figure size 640x480 with 1 Axes>"
      ]
     },
     "metadata": {},
     "output_type": "display_data"
    }
   ],
   "source": [
    "TCGA_LIHC = set(genes_data_TCGA_LIHC['Gene_symbol'].values)\n",
    "GSE76427 = set(genes_data_GSE76427['Gene_symbol'].values)\n",
    "GSE121248 = set(genes_data_GSE121248['Gene_symbol'].values) \n",
    "\n",
    "# Calculer les tailles des ensembles et des intersections\n",
    "only_TCGA_LIHC = len(TCGA_LIHC - GSE76427 - GSE121248)\n",
    "only_GSE76427 = len(GSE76427 - TCGA_LIHC - GSE121248)\n",
    "only_GSE121248 = len(GSE121248 - TCGA_LIHC - GSE76427)\n",
    "\n",
    "intersection_TCGA_LIHC_GSE76427 = len(TCGA_LIHC & GSE76427 - GSE121248)\n",
    "intersection_TCGA_LIHC_GSE121248 = len(TCGA_LIHC & GSE121248 - GSE76427)\n",
    "intersection_GSE76427_GSE121248 = len(GSE76427 & GSE121248 - TCGA_LIHC)\n",
    "\n",
    "intersection_all_three = len(TCGA_LIHC & GSE76427 & GSE121248)\n",
    "\n",
    "# Créer le diagramme de Venn\n",
    "venn = venn3(subsets=(only_TCGA_LIHC, only_GSE76427, intersection_TCGA_LIHC_GSE76427,\n",
    "                      only_GSE121248, intersection_TCGA_LIHC_GSE121248, intersection_GSE76427_GSE121248,\n",
    "                      intersection_all_three), \n",
    "             set_labels=('TCGA-LIHC (n=1283)', 'GSE76427 (n=370)', 'GSE121248 (n=489)'))\n",
    "\n",
    "# Ajouter des étiquettes personnalisées\n",
    "venn.get_label_by_id('100').set_text(only_TCGA_LIHC)\n",
    "venn.get_label_by_id('010').set_text(only_GSE76427)\n",
    "venn.get_label_by_id('001').set_text(only_GSE121248)\n",
    "venn.get_label_by_id('110').set_text(intersection_TCGA_LIHC_GSE76427)\n",
    "venn.get_label_by_id('101').set_text(intersection_TCGA_LIHC_GSE121248)\n",
    "venn.get_label_by_id('011').set_text(intersection_GSE76427_GSE121248)\n",
    "venn.get_label_by_id('111').set_text(intersection_all_three)\n",
    "\n",
    "\n",
    "# Extraire les couleurs utilisées dans le diagramme\n",
    "colors = [patch.get_facecolor() for patch in venn.patches if patch is not None]\n",
    "\n",
    "# Créer la légende avec les couleurs extraites\n",
    "legend_elements = [Line2D([0], [0], color=colors[0], lw=3, label='TCGA-LIHC'),\n",
    "                   Line2D([0], [0], color=colors[1], lw=3, label='GSE76427'),\n",
    "                   Line2D([0], [0], color=colors[3], lw=3, label='GSE121248')]\n",
    "\n",
    "plt.legend(handles=legend_elements, loc='lower left')\n",
    "\n",
    "# Afficher le diagramme\n",
    "plt.show()\n"
   ]
  },
  {
   "cell_type": "markdown",
   "id": "2716e8d0",
   "metadata": {},
   "source": [
    "## Modèle de Cox:"
   ]
  },
  {
   "cell_type": "markdown",
   "id": "4097fb5f",
   "metadata": {},
   "source": [
    "**Note: le modèle de Cox cherche notamment a étudié si l'augmentation du niveau d'expression de gènes impacte la survie.**"
   ]
  },
  {
   "cell_type": "code",
   "execution_count": 39,
   "id": "291dc473",
   "metadata": {},
   "outputs": [],
   "source": [
    "# les 109 gènes retenus dans l'étape de croisement entre les datasets pour les gènes fréquemment activés\n",
    "\n",
    "genes_retenus = pd.read_csv(\"gene_symbol.csv\", sep=';', header = None) "
   ]
  },
  {
   "cell_type": "code",
   "execution_count": 40,
   "id": "872e6700",
   "metadata": {},
   "outputs": [
    {
     "name": "stdout",
     "output_type": "stream",
     "text": [
      "(109, 441)\n"
     ]
    },
    {
     "data": {
      "text/html": [
       "<div>\n",
       "<style scoped>\n",
       "    .dataframe tbody tr th:only-of-type {\n",
       "        vertical-align: middle;\n",
       "    }\n",
       "\n",
       "    .dataframe tbody tr th {\n",
       "        vertical-align: top;\n",
       "    }\n",
       "\n",
       "    .dataframe thead th {\n",
       "        text-align: right;\n",
       "    }\n",
       "</style>\n",
       "<table border=\"1\" class=\"dataframe\">\n",
       "  <thead>\n",
       "    <tr style=\"text-align: right;\">\n",
       "      <th></th>\n",
       "      <th>id_gene</th>\n",
       "      <th>gene_symbol</th>\n",
       "      <th>TCGA-2V-A95S-01A</th>\n",
       "      <th>TCGA-2Y-A9GS-01A</th>\n",
       "      <th>TCGA-2Y-A9GT-01A</th>\n",
       "      <th>TCGA-2Y-A9GU-01A</th>\n",
       "      <th>TCGA-2Y-A9GV-01A</th>\n",
       "      <th>TCGA-2Y-A9GW-01A</th>\n",
       "      <th>TCGA-2Y-A9GX-01A</th>\n",
       "      <th>TCGA-2Y-A9GY-01A</th>\n",
       "      <th>...</th>\n",
       "      <th>TCGA-ZP-A9CZ-01A</th>\n",
       "      <th>TCGA-ZP-A9D0-01A</th>\n",
       "      <th>TCGA-ZP-A9D1-01A</th>\n",
       "      <th>TCGA-ZP-A9D2-01A</th>\n",
       "      <th>TCGA-ZP-A9D4-01A</th>\n",
       "      <th>TCGA-ZS-A9CD-01A</th>\n",
       "      <th>TCGA-ZS-A9CE-01A</th>\n",
       "      <th>TCGA-ZS-A9CF-01A</th>\n",
       "      <th>TCGA-ZS-A9CF-02A</th>\n",
       "      <th>TCGA-ZS-A9CG-01A</th>\n",
       "    </tr>\n",
       "  </thead>\n",
       "  <tbody>\n",
       "    <tr>\n",
       "      <th>34</th>\n",
       "      <td>41</td>\n",
       "      <td>ASIC1</td>\n",
       "      <td>0.092072</td>\n",
       "      <td>0.566474</td>\n",
       "      <td>0.037593</td>\n",
       "      <td>0.072037</td>\n",
       "      <td>0.022048</td>\n",
       "      <td>0.181166</td>\n",
       "      <td>0.164143</td>\n",
       "      <td>1.046421</td>\n",
       "      <td>...</td>\n",
       "      <td>0.146395</td>\n",
       "      <td>0.103531</td>\n",
       "      <td>0.088413</td>\n",
       "      <td>0.340391</td>\n",
       "      <td>0.273217</td>\n",
       "      <td>0.043484</td>\n",
       "      <td>0.015498</td>\n",
       "      <td>0.012354</td>\n",
       "      <td>0.071900</td>\n",
       "      <td>1.554392</td>\n",
       "    </tr>\n",
       "    <tr>\n",
       "      <th>270</th>\n",
       "      <td>343</td>\n",
       "      <td>AQP8</td>\n",
       "      <td>0.072037</td>\n",
       "      <td>0.064331</td>\n",
       "      <td>3.402886</td>\n",
       "      <td>1.303284</td>\n",
       "      <td>1.324868</td>\n",
       "      <td>2.172872</td>\n",
       "      <td>2.414623</td>\n",
       "      <td>0.114100</td>\n",
       "      <td>...</td>\n",
       "      <td>0.135272</td>\n",
       "      <td>2.184566</td>\n",
       "      <td>1.912037</td>\n",
       "      <td>0.037874</td>\n",
       "      <td>0.136323</td>\n",
       "      <td>1.777072</td>\n",
       "      <td>0.641176</td>\n",
       "      <td>2.615463</td>\n",
       "      <td>0.573956</td>\n",
       "      <td>1.063848</td>\n",
       "    </tr>\n",
       "    <tr>\n",
       "      <th>1241</th>\n",
       "      <td>1594</td>\n",
       "      <td>CYP27B1</td>\n",
       "      <td>0.582267</td>\n",
       "      <td>0.124196</td>\n",
       "      <td>0.726744</td>\n",
       "      <td>0.133695</td>\n",
       "      <td>0.215616</td>\n",
       "      <td>1.823219</td>\n",
       "      <td>0.218099</td>\n",
       "      <td>0.452701</td>\n",
       "      <td>...</td>\n",
       "      <td>0.151469</td>\n",
       "      <td>0.176578</td>\n",
       "      <td>0.142217</td>\n",
       "      <td>0.761711</td>\n",
       "      <td>0.131853</td>\n",
       "      <td>0.096127</td>\n",
       "      <td>0.338795</td>\n",
       "      <td>1.641962</td>\n",
       "      <td>1.703101</td>\n",
       "      <td>0.153027</td>\n",
       "    </tr>\n",
       "  </tbody>\n",
       "</table>\n",
       "<p>3 rows × 441 columns</p>\n",
       "</div>"
      ],
      "text/plain": [
       "      id_gene gene_symbol  TCGA-2V-A95S-01A  TCGA-2Y-A9GS-01A  \\\n",
       "34         41       ASIC1          0.092072          0.566474   \n",
       "270       343        AQP8          0.072037          0.064331   \n",
       "1241     1594     CYP27B1          0.582267          0.124196   \n",
       "\n",
       "      TCGA-2Y-A9GT-01A  TCGA-2Y-A9GU-01A  TCGA-2Y-A9GV-01A  TCGA-2Y-A9GW-01A  \\\n",
       "34            0.037593          0.072037          0.022048          0.181166   \n",
       "270           3.402886          1.303284          1.324868          2.172872   \n",
       "1241          0.726744          0.133695          0.215616          1.823219   \n",
       "\n",
       "      TCGA-2Y-A9GX-01A  TCGA-2Y-A9GY-01A  ...  TCGA-ZP-A9CZ-01A  \\\n",
       "34            0.164143          1.046421  ...          0.146395   \n",
       "270           2.414623          0.114100  ...          0.135272   \n",
       "1241          0.218099          0.452701  ...          0.151469   \n",
       "\n",
       "      TCGA-ZP-A9D0-01A  TCGA-ZP-A9D1-01A  TCGA-ZP-A9D2-01A  TCGA-ZP-A9D4-01A  \\\n",
       "34            0.103531          0.088413          0.340391          0.273217   \n",
       "270           2.184566          1.912037          0.037874          0.136323   \n",
       "1241          0.176578          0.142217          0.761711          0.131853   \n",
       "\n",
       "      TCGA-ZS-A9CD-01A  TCGA-ZS-A9CE-01A  TCGA-ZS-A9CF-01A  TCGA-ZS-A9CF-02A  \\\n",
       "34            0.043484          0.015498          0.012354          0.071900   \n",
       "270           1.777072          0.641176          2.615463          0.573956   \n",
       "1241          0.096127          0.338795          1.641962          1.703101   \n",
       "\n",
       "      TCGA-ZS-A9CG-01A  \n",
       "34            1.554392  \n",
       "270           1.063848  \n",
       "1241          0.153027  \n",
       "\n",
       "[3 rows x 441 columns]"
      ]
     },
     "execution_count": 40,
     "metadata": {},
     "output_type": "execute_result"
    }
   ],
   "source": [
    "# dataset \"TCGA-LIHC\"\n",
    "\n",
    "expression_data_TCGA_LIHC=pd.read_csv(\"C:/Users/DIAGNE Ibrahima/Desktop/Stage_IAB_2024/data/expression_data_tcga_lihc_TCGA-LIHC_log_fpkm_439_samples_43022_genes.csv\", sep=\";\")\n",
    "\n",
    "# on récupère les données dont les gènes sont présents dans les 109 gènes retenues\n",
    "expression_data_TCGA_LIHC = expression_data_TCGA_LIHC[expression_data_TCGA_LIHC['gene_symbol'].isin(genes_retenus[0].values)]\n",
    "print(expression_data_TCGA_LIHC.shape)\n",
    "expression_data_TCGA_LIHC.head(3)"
   ]
  },
  {
   "cell_type": "code",
   "execution_count": 41,
   "id": "57b58227",
   "metadata": {},
   "outputs": [
    {
     "name": "stderr",
     "output_type": "stream",
     "text": [
      "C:\\Users\\DIAGNE Ibrahima\\anaconda3\\lib\\site-packages\\openpyxl\\styles\\stylesheet.py:226: UserWarning: Workbook contains no default style, apply openpyxl's default\n",
      "  warn(\"Workbook contains no default style, apply openpyxl's default\")\n"
     ]
    },
    {
     "name": "stdout",
     "output_type": "stream",
     "text": [
      "(439, 42)\n"
     ]
    },
    {
     "data": {
      "text/html": [
       "<div>\n",
       "<style scoped>\n",
       "    .dataframe tbody tr th:only-of-type {\n",
       "        vertical-align: middle;\n",
       "    }\n",
       "\n",
       "    .dataframe tbody tr th {\n",
       "        vertical-align: top;\n",
       "    }\n",
       "\n",
       "    .dataframe thead th {\n",
       "        text-align: right;\n",
       "    }\n",
       "</style>\n",
       "<table border=\"1\" class=\"dataframe\">\n",
       "  <thead>\n",
       "    <tr style=\"text-align: right;\">\n",
       "      <th></th>\n",
       "      <th>id_sample</th>\n",
       "      <th>main_gse_number</th>\n",
       "      <th>id_platform</th>\n",
       "      <th>organism</th>\n",
       "      <th>sample_title</th>\n",
       "      <th>sample_source</th>\n",
       "      <th>sex</th>\n",
       "      <th>ethnic_group</th>\n",
       "      <th>age_min</th>\n",
       "      <th>age_max</th>\n",
       "      <th>...</th>\n",
       "      <th>relapsed</th>\n",
       "      <th>dead</th>\n",
       "      <th>treatment</th>\n",
       "      <th>exposure</th>\n",
       "      <th>id_patient</th>\n",
       "      <th>tissue_group_level1</th>\n",
       "      <th>tissue_group_level2</th>\n",
       "      <th>tissue_group_level3</th>\n",
       "      <th>os_censor</th>\n",
       "      <th>dfs_censor</th>\n",
       "    </tr>\n",
       "  </thead>\n",
       "  <tbody>\n",
       "    <tr>\n",
       "      <th>0</th>\n",
       "      <td>TCGA-G3-A3CG-01A</td>\n",
       "      <td>TCGA-LIHC</td>\n",
       "      <td>multi</td>\n",
       "      <td>Homo sapiens</td>\n",
       "      <td>d02deece-d8bc-4614-ac26-60a4282fdb07</td>\n",
       "      <td>Primary Tumor</td>\n",
       "      <td>M</td>\n",
       "      <td>not hispanic or latino</td>\n",
       "      <td>80.64</td>\n",
       "      <td>80.64</td>\n",
       "      <td>...</td>\n",
       "      <td>True</td>\n",
       "      <td>False</td>\n",
       "      <td>NaN</td>\n",
       "      <td>NaN</td>\n",
       "      <td>TCGA-G3-A3CG</td>\n",
       "      <td>liver</td>\n",
       "      <td>hepato_bilary</td>\n",
       "      <td>soma</td>\n",
       "      <td>0.0</td>\n",
       "      <td>1.0</td>\n",
       "    </tr>\n",
       "    <tr>\n",
       "      <th>1</th>\n",
       "      <td>TCGA-DD-AAVP-01A</td>\n",
       "      <td>TCGA-LIHC</td>\n",
       "      <td>multi</td>\n",
       "      <td>Homo sapiens</td>\n",
       "      <td>9259e9ee-7279-4b62-8512-509cb705029c</td>\n",
       "      <td>Primary Tumor</td>\n",
       "      <td>M</td>\n",
       "      <td>not hispanic or latino</td>\n",
       "      <td>48.86</td>\n",
       "      <td>48.86</td>\n",
       "      <td>...</td>\n",
       "      <td>True</td>\n",
       "      <td>False</td>\n",
       "      <td>NaN</td>\n",
       "      <td>NaN</td>\n",
       "      <td>TCGA-DD-AAVP</td>\n",
       "      <td>liver</td>\n",
       "      <td>hepato_bilary</td>\n",
       "      <td>soma</td>\n",
       "      <td>0.0</td>\n",
       "      <td>1.0</td>\n",
       "    </tr>\n",
       "    <tr>\n",
       "      <th>2</th>\n",
       "      <td>TCGA-FV-A3R3-01A</td>\n",
       "      <td>TCGA-LIHC</td>\n",
       "      <td>multi</td>\n",
       "      <td>Homo sapiens</td>\n",
       "      <td>8abda02f-aedf-4599-9407-e253207d5d4c</td>\n",
       "      <td>Primary Tumor</td>\n",
       "      <td>F</td>\n",
       "      <td>not hispanic or latino</td>\n",
       "      <td>38.99</td>\n",
       "      <td>38.99</td>\n",
       "      <td>...</td>\n",
       "      <td>False</td>\n",
       "      <td>True</td>\n",
       "      <td>NaN</td>\n",
       "      <td>NaN</td>\n",
       "      <td>TCGA-FV-A3R3</td>\n",
       "      <td>liver</td>\n",
       "      <td>hepato_bilary</td>\n",
       "      <td>soma</td>\n",
       "      <td>1.0</td>\n",
       "      <td>1.0</td>\n",
       "    </tr>\n",
       "  </tbody>\n",
       "</table>\n",
       "<p>3 rows × 42 columns</p>\n",
       "</div>"
      ],
      "text/plain": [
       "          id_sample main_gse_number id_platform      organism  \\\n",
       "0  TCGA-G3-A3CG-01A       TCGA-LIHC       multi  Homo sapiens   \n",
       "1  TCGA-DD-AAVP-01A       TCGA-LIHC       multi  Homo sapiens   \n",
       "2  TCGA-FV-A3R3-01A       TCGA-LIHC       multi  Homo sapiens   \n",
       "\n",
       "                           sample_title  sample_source sex  \\\n",
       "0  d02deece-d8bc-4614-ac26-60a4282fdb07  Primary Tumor   M   \n",
       "1  9259e9ee-7279-4b62-8512-509cb705029c  Primary Tumor   M   \n",
       "2  8abda02f-aedf-4599-9407-e253207d5d4c  Primary Tumor   F   \n",
       "\n",
       "             ethnic_group  age_min  age_max  ...  relapsed   dead  treatment  \\\n",
       "0  not hispanic or latino    80.64    80.64  ...      True  False        NaN   \n",
       "1  not hispanic or latino    48.86    48.86  ...      True  False        NaN   \n",
       "2  not hispanic or latino    38.99    38.99  ...     False   True        NaN   \n",
       "\n",
       "  exposure    id_patient tissue_group_level1 tissue_group_level2  \\\n",
       "0      NaN  TCGA-G3-A3CG               liver       hepato_bilary   \n",
       "1      NaN  TCGA-DD-AAVP               liver       hepato_bilary   \n",
       "2      NaN  TCGA-FV-A3R3               liver       hepato_bilary   \n",
       "\n",
       "  tissue_group_level3 os_censor dfs_censor  \n",
       "0                soma       0.0        1.0  \n",
       "1                soma       0.0        1.0  \n",
       "2                soma       1.0        1.0  \n",
       "\n",
       "[3 rows x 42 columns]"
      ]
     },
     "execution_count": 41,
     "metadata": {},
     "output_type": "execute_result"
    }
   ],
   "source": [
    "# Lecture du fichier Excel EpiMed_experimental_grouping_2024.03.03_TCGA-LIHC\n",
    "\n",
    "clinic_data_TCGA_LIHC = pd.read_excel(\"C:/Users/DIAGNE Ibrahima/Desktop/Stage_IAB_2024/data/EpiMed_experimental_grouping/EpiMed_experimental_grouping_2024.03.03_TCGA-LIHC.xlsx\", sheet_name=\"standard exp_group\")\n",
    "\n",
    "# Affichage des dimensions pour vérification\n",
    "print(clinic_data_TCGA_LIHC.shape)\n",
    "clinic_data_TCGA_LIHC.head(3)"
   ]
  },
  {
   "cell_type": "code",
   "execution_count": 42,
   "id": "b4dd7808",
   "metadata": {},
   "outputs": [],
   "source": [
    "# suppression des NaN\n",
    "\n",
    "clinic_data_TCGA_LIHC = clinic_data_TCGA_LIHC.dropna(subset=['os_months', 'os_censor'])"
   ]
  },
  {
   "cell_type": "code",
   "execution_count": 43,
   "id": "791804e2",
   "metadata": {},
   "outputs": [],
   "source": [
    "# Préparation d'une liste pour les indices de colonnes correspondants\n",
    "selected_sample = [col for col in clinic_data_TCGA_LIHC['id_sample'].unique() if col in expression_data_TCGA_LIHC.columns]\n",
    "\n",
    "# Sélection des données\n",
    "expression_data_TCGA_LIHC = expression_data_TCGA_LIHC[['gene_symbol'] + selected_sample]"
   ]
  },
  {
   "cell_type": "code",
   "execution_count": 44,
   "id": "bdbde765",
   "metadata": {},
   "outputs": [
    {
     "name": "stdout",
     "output_type": "stream",
     "text": [
      "['TCGA-BC-A10S-11A', 'TCGA-G3-A25W-01A', 'TCGA-G3-A25W-11A', 'TCGA-DD-A3A0-01A', 'TCGA-DD-A1EF-11A', 'TCGA-DD-AAE8-01A', 'TCGA-DD-A1ED-11A', 'TCGA-G3-A25X-11A', 'TCGA-DD-AADE-01A', 'TCGA-ES-A2HS-11A', 'TCGA-DD-A115-11A', 'TCGA-BC-A112-11A', 'TCGA-DD-AACM-01A', 'TCGA-DD-A1E9-11A', 'TCGA-DD-A1E9-01A']\n"
     ]
    }
   ],
   "source": [
    "# Trouver les échantillons contenant des valeurs NaN dans expression_data_TCGA_LIHC\n",
    "colonnes_avec_nan = expression_data_TCGA_LIHC.columns[expression_data_TCGA_LIHC.isna().any()].tolist()\n",
    "\n",
    "print(colonnes_avec_nan)"
   ]
  },
  {
   "cell_type": "code",
   "execution_count": 45,
   "id": "0cd5cb83",
   "metadata": {},
   "outputs": [],
   "source": [
    "# id_sample en index dans clinic_data_TCGA_LIHC\n",
    "\n",
    "clinic_data_TCGA_LIHC = clinic_data_TCGA_LIHC.set_index('id_sample')     "
   ]
  },
  {
   "cell_type": "code",
   "execution_count": 46,
   "id": "fc6d06cb",
   "metadata": {},
   "outputs": [],
   "source": [
    "# dans clinic_data_TCGA_LIHC, on suprrime les id_sample(ligne complète) qui ont des nan dans expression_data_TCGA_LIHC\n",
    "\n",
    "clinic_data_TCGA_LIHC = clinic_data_TCGA_LIHC.drop(colonnes_avec_nan)"
   ]
  },
  {
   "cell_type": "code",
   "execution_count": 47,
   "id": "1748dc82",
   "metadata": {},
   "outputs": [
    {
     "data": {
      "text/plain": [
       "(422, 41)"
      ]
     },
     "execution_count": 47,
     "metadata": {},
     "output_type": "execute_result"
    }
   ],
   "source": [
    "clinic_data_TCGA_LIHC.shape"
   ]
  },
  {
   "cell_type": "code",
   "execution_count": 48,
   "id": "dc295c65",
   "metadata": {},
   "outputs": [
    {
     "data": {
      "text/plain": [
       "(109, 423)"
      ]
     },
     "execution_count": 48,
     "metadata": {},
     "output_type": "execute_result"
    }
   ],
   "source": [
    "# suppression des échantillons qui ont des valeurs manquantes(NAN)\n",
    "\n",
    "expression_data_TCGA_LIHC = expression_data_TCGA_LIHC.dropna(axis=1) \n",
    "expression_data_TCGA_LIHC.shape"
   ]
  },
  {
   "cell_type": "code",
   "execution_count": 49,
   "id": "dff7f29e",
   "metadata": {},
   "outputs": [
    {
     "data": {
      "text/html": [
       "<div>\n",
       "<style scoped>\n",
       "    .dataframe tbody tr th:only-of-type {\n",
       "        vertical-align: middle;\n",
       "    }\n",
       "\n",
       "    .dataframe tbody tr th {\n",
       "        vertical-align: top;\n",
       "    }\n",
       "\n",
       "    .dataframe thead th {\n",
       "        text-align: right;\n",
       "    }\n",
       "</style>\n",
       "<table border=\"1\" class=\"dataframe\">\n",
       "  <thead>\n",
       "    <tr style=\"text-align: right;\">\n",
       "      <th></th>\n",
       "      <th>gene_symbol</th>\n",
       "      <th>TCGA-G3-A3CG-01A</th>\n",
       "      <th>TCGA-DD-AAVP-01A</th>\n",
       "      <th>TCGA-FV-A3R3-01A</th>\n",
       "      <th>TCGA-G3-A25Y-01A</th>\n",
       "      <th>TCGA-DD-AADU-01A</th>\n",
       "      <th>TCGA-BC-A10S-01A</th>\n",
       "      <th>TCGA-5R-AA1D-01A</th>\n",
       "      <th>TCGA-G3-A25Z-01A</th>\n",
       "      <th>TCGA-DD-AAEH-01A</th>\n",
       "      <th>...</th>\n",
       "      <th>TCGA-DD-A39V-01A</th>\n",
       "      <th>TCGA-DD-A39V-11A</th>\n",
       "      <th>TCGA-DD-AAEK-01A</th>\n",
       "      <th>TCGA-DD-AAVX-01A</th>\n",
       "      <th>TCGA-DD-A11A-01A</th>\n",
       "      <th>TCGA-ZP-A9CY-01A</th>\n",
       "      <th>TCGA-BC-A10R-11A</th>\n",
       "      <th>TCGA-BC-A10R-01A</th>\n",
       "      <th>TCGA-QA-A7B7-01A</th>\n",
       "      <th>TCGA-CC-5264-01A</th>\n",
       "    </tr>\n",
       "  </thead>\n",
       "  <tbody>\n",
       "    <tr>\n",
       "      <th>34</th>\n",
       "      <td>ASIC1</td>\n",
       "      <td>0.174279</td>\n",
       "      <td>3.806107</td>\n",
       "      <td>0.310805</td>\n",
       "      <td>0.730488</td>\n",
       "      <td>1.120949</td>\n",
       "      <td>0.029418</td>\n",
       "      <td>0.250598</td>\n",
       "      <td>0.019204</td>\n",
       "      <td>0.066537</td>\n",
       "      <td>...</td>\n",
       "      <td>1.615605</td>\n",
       "      <td>0.030124</td>\n",
       "      <td>0.888071</td>\n",
       "      <td>0.051720</td>\n",
       "      <td>0.021338</td>\n",
       "      <td>0.069702</td>\n",
       "      <td>0.027862</td>\n",
       "      <td>0.212134</td>\n",
       "      <td>0.035765</td>\n",
       "      <td>1.227864</td>\n",
       "    </tr>\n",
       "    <tr>\n",
       "      <th>270</th>\n",
       "      <td>AQP8</td>\n",
       "      <td>1.879078</td>\n",
       "      <td>5.055048</td>\n",
       "      <td>0.398460</td>\n",
       "      <td>0.062398</td>\n",
       "      <td>0.384271</td>\n",
       "      <td>1.625645</td>\n",
       "      <td>0.703721</td>\n",
       "      <td>2.199657</td>\n",
       "      <td>2.869082</td>\n",
       "      <td>...</td>\n",
       "      <td>0.254594</td>\n",
       "      <td>0.551688</td>\n",
       "      <td>0.624896</td>\n",
       "      <td>0.035905</td>\n",
       "      <td>2.449112</td>\n",
       "      <td>3.076371</td>\n",
       "      <td>2.216020</td>\n",
       "      <td>3.454847</td>\n",
       "      <td>0.142479</td>\n",
       "      <td>3.492110</td>\n",
       "    </tr>\n",
       "    <tr>\n",
       "      <th>1241</th>\n",
       "      <td>CYP27B1</td>\n",
       "      <td>0.138421</td>\n",
       "      <td>1.955350</td>\n",
       "      <td>0.057831</td>\n",
       "      <td>0.324350</td>\n",
       "      <td>0.246347</td>\n",
       "      <td>0.306846</td>\n",
       "      <td>0.205017</td>\n",
       "      <td>0.059771</td>\n",
       "      <td>0.032101</td>\n",
       "      <td>...</td>\n",
       "      <td>0.134615</td>\n",
       "      <td>0.052277</td>\n",
       "      <td>0.242694</td>\n",
       "      <td>0.145743</td>\n",
       "      <td>0.150040</td>\n",
       "      <td>0.282499</td>\n",
       "      <td>0.061984</td>\n",
       "      <td>0.088413</td>\n",
       "      <td>0.572502</td>\n",
       "      <td>0.785592</td>\n",
       "    </tr>\n",
       "  </tbody>\n",
       "</table>\n",
       "<p>3 rows × 423 columns</p>\n",
       "</div>"
      ],
      "text/plain": [
       "     gene_symbol  TCGA-G3-A3CG-01A  TCGA-DD-AAVP-01A  TCGA-FV-A3R3-01A  \\\n",
       "34         ASIC1          0.174279          3.806107          0.310805   \n",
       "270         AQP8          1.879078          5.055048          0.398460   \n",
       "1241     CYP27B1          0.138421          1.955350          0.057831   \n",
       "\n",
       "      TCGA-G3-A25Y-01A  TCGA-DD-AADU-01A  TCGA-BC-A10S-01A  TCGA-5R-AA1D-01A  \\\n",
       "34            0.730488          1.120949          0.029418          0.250598   \n",
       "270           0.062398          0.384271          1.625645          0.703721   \n",
       "1241          0.324350          0.246347          0.306846          0.205017   \n",
       "\n",
       "      TCGA-G3-A25Z-01A  TCGA-DD-AAEH-01A  ...  TCGA-DD-A39V-01A  \\\n",
       "34            0.019204          0.066537  ...          1.615605   \n",
       "270           2.199657          2.869082  ...          0.254594   \n",
       "1241          0.059771          0.032101  ...          0.134615   \n",
       "\n",
       "      TCGA-DD-A39V-11A  TCGA-DD-AAEK-01A  TCGA-DD-AAVX-01A  TCGA-DD-A11A-01A  \\\n",
       "34            0.030124          0.888071          0.051720          0.021338   \n",
       "270           0.551688          0.624896          0.035905          2.449112   \n",
       "1241          0.052277          0.242694          0.145743          0.150040   \n",
       "\n",
       "      TCGA-ZP-A9CY-01A  TCGA-BC-A10R-11A  TCGA-BC-A10R-01A  TCGA-QA-A7B7-01A  \\\n",
       "34            0.069702          0.027862          0.212134          0.035765   \n",
       "270           3.076371          2.216020          3.454847          0.142479   \n",
       "1241          0.282499          0.061984          0.088413          0.572502   \n",
       "\n",
       "      TCGA-CC-5264-01A  \n",
       "34            1.227864  \n",
       "270           3.492110  \n",
       "1241          0.785592  \n",
       "\n",
       "[3 rows x 423 columns]"
      ]
     },
     "execution_count": 49,
     "metadata": {},
     "output_type": "execute_result"
    }
   ],
   "source": [
    "expression_data_TCGA_LIHC.head(3)"
   ]
  },
  {
   "cell_type": "code",
   "execution_count": 50,
   "id": "df737c61",
   "metadata": {},
   "outputs": [],
   "source": [
    "# gene_symbol en index dans expression_data_TCGA_LIHC \n",
    "\n",
    "expression_data_TCGA_LIHC = expression_data_TCGA_LIHC.set_index('gene_symbol') "
   ]
  },
  {
   "cell_type": "code",
   "execution_count": 21,
   "id": "1f349397",
   "metadata": {},
   "outputs": [],
   "source": [
    "expression_data_TCGA_LIHC.to_csv('expression_data_TCGA_LIHC.csv',index=False, sep=';')"
   ]
  },
  {
   "cell_type": "code",
   "execution_count": 22,
   "id": "3b98f6e6",
   "metadata": {},
   "outputs": [],
   "source": [
    "clinic_data_TCGA_LIHC.to_csv('clinic_data_TCGA_LIHC.csv',index=False, sep=';')"
   ]
  },
  {
   "cell_type": "code",
   "execution_count": 24,
   "id": "828a4ff0",
   "metadata": {},
   "outputs": [
    {
     "name": "stdout",
     "output_type": "stream",
     "text": [
      "Collecting lifelines\n",
      "  Downloading lifelines-0.28.0-py3-none-any.whl (349 kB)\n",
      "     ------------------------------------ 349.2/349.2 kB 832.9 kB/s eta 0:00:00\n",
      "Requirement already satisfied: numpy<2.0,>=1.14.0 in c:\\users\\diagne ibrahima\\anaconda3\\lib\\site-packages (from lifelines) (1.24.4)\n",
      "Collecting autograd>=1.5\n",
      "  Downloading autograd-1.6.2-py3-none-any.whl (49 kB)\n",
      "     -------------------------------------- 49.3/49.3 kB 830.0 kB/s eta 0:00:00\n",
      "Requirement already satisfied: pandas>=1.2.0 in c:\\users\\diagne ibrahima\\anaconda3\\lib\\site-packages (from lifelines) (1.4.4)\n",
      "Requirement already satisfied: matplotlib>=3.0 in c:\\users\\diagne ibrahima\\anaconda3\\lib\\site-packages (from lifelines) (3.5.2)\n",
      "Collecting formulaic>=0.2.2\n",
      "  Downloading formulaic-1.0.1-py3-none-any.whl (94 kB)\n",
      "     ---------------------------------------- 94.2/94.2 kB 1.8 MB/s eta 0:00:00\n",
      "Collecting autograd-gamma>=0.3\n",
      "  Downloading autograd-gamma-0.5.0.tar.gz (4.0 kB)\n",
      "  Preparing metadata (setup.py): started\n",
      "  Preparing metadata (setup.py): finished with status 'done'\n",
      "Requirement already satisfied: scipy>=1.2.0 in c:\\users\\diagne ibrahima\\anaconda3\\lib\\site-packages (from lifelines) (1.9.1)\n",
      "Requirement already satisfied: future>=0.15.2 in c:\\users\\diagne ibrahima\\anaconda3\\lib\\site-packages (from autograd>=1.5->lifelines) (0.18.2)\n",
      "Requirement already satisfied: typing-extensions>=4.2.0 in c:\\users\\diagne ibrahima\\anaconda3\\lib\\site-packages (from formulaic>=0.2.2->lifelines) (4.3.0)\n",
      "Collecting interface-meta>=1.2.0\n",
      "  Downloading interface_meta-1.3.0-py3-none-any.whl (14 kB)\n",
      "Requirement already satisfied: wrapt>=1.0 in c:\\users\\diagne ibrahima\\anaconda3\\lib\\site-packages (from formulaic>=0.2.2->lifelines) (1.14.1)\n",
      "Requirement already satisfied: kiwisolver>=1.0.1 in c:\\users\\diagne ibrahima\\anaconda3\\lib\\site-packages (from matplotlib>=3.0->lifelines) (1.4.2)\n",
      "Requirement already satisfied: fonttools>=4.22.0 in c:\\users\\diagne ibrahima\\anaconda3\\lib\\site-packages (from matplotlib>=3.0->lifelines) (4.25.0)\n",
      "Requirement already satisfied: python-dateutil>=2.7 in c:\\users\\diagne ibrahima\\anaconda3\\lib\\site-packages (from matplotlib>=3.0->lifelines) (2.8.2)\n",
      "Requirement already satisfied: pillow>=6.2.0 in c:\\users\\diagne ibrahima\\anaconda3\\lib\\site-packages (from matplotlib>=3.0->lifelines) (9.2.0)\n",
      "Requirement already satisfied: pyparsing>=2.2.1 in c:\\users\\diagne ibrahima\\anaconda3\\lib\\site-packages (from matplotlib>=3.0->lifelines) (3.0.9)\n",
      "Requirement already satisfied: packaging>=20.0 in c:\\users\\diagne ibrahima\\anaconda3\\lib\\site-packages (from matplotlib>=3.0->lifelines) (21.3)\n",
      "Requirement already satisfied: cycler>=0.10 in c:\\users\\diagne ibrahima\\anaconda3\\lib\\site-packages (from matplotlib>=3.0->lifelines) (0.11.0)\n",
      "Requirement already satisfied: pytz>=2020.1 in c:\\users\\diagne ibrahima\\anaconda3\\lib\\site-packages (from pandas>=1.2.0->lifelines) (2022.1)\n",
      "Requirement already satisfied: six>=1.5 in c:\\users\\diagne ibrahima\\anaconda3\\lib\\site-packages (from python-dateutil>=2.7->matplotlib>=3.0->lifelines) (1.16.0)\n",
      "Building wheels for collected packages: autograd-gamma\n",
      "  Building wheel for autograd-gamma (setup.py): started\n",
      "  Building wheel for autograd-gamma (setup.py): finished with status 'done'\n",
      "  Created wheel for autograd-gamma: filename=autograd_gamma-0.5.0-py3-none-any.whl size=4032 sha256=8eded07274adedc166822e5289a1427e45e97268c14eb92a2c05204434a68d74\n",
      "  Stored in directory: c:\\users\\diagne ibrahima\\appdata\\local\\pip\\cache\\wheels\\a8\\03\\64\\8557323821d25118c3a2dc1646996f7a962a8970d4b7d22473\n",
      "Successfully built autograd-gamma\n",
      "Installing collected packages: interface-meta, autograd, autograd-gamma, formulaic, lifelines\n",
      "Successfully installed autograd-1.6.2 autograd-gamma-0.5.0 formulaic-1.0.1 interface-meta-1.3.0 lifelines-0.28.0\n",
      "Note: you may need to restart the kernel to use updated packages.\n"
     ]
    }
   ],
   "source": [
    "# installation de lifelines\n",
    "\n",
    "pip install lifelines"
   ]
  },
  {
   "cell_type": "code",
   "execution_count": 51,
   "id": "b2f2391f",
   "metadata": {},
   "outputs": [],
   "source": [
    "# import some libraries\n",
    "\n",
    "from lifelines import CoxPHFitter\n",
    "from lifelines.statistics import logrank_test\n",
    "from statsmodels.stats.multitest import multipletests"
   ]
  },
  {
   "cell_type": "code",
   "execution_count": 52,
   "id": "f76f80e8",
   "metadata": {},
   "outputs": [],
   "source": [
    "clinic_data_TCGA_LIHC = clinic_data_TCGA_LIHC.reset_index()\n",
    "expression_data_TCGA_LIHC = expression_data_TCGA_LIHC.reset_index()"
   ]
  },
  {
   "cell_type": "code",
   "execution_count": 53,
   "id": "b3575b73",
   "metadata": {},
   "outputs": [
    {
     "data": {
      "text/html": [
       "<div>\n",
       "<style scoped>\n",
       "    .dataframe tbody tr th:only-of-type {\n",
       "        vertical-align: middle;\n",
       "    }\n",
       "\n",
       "    .dataframe tbody tr th {\n",
       "        vertical-align: top;\n",
       "    }\n",
       "\n",
       "    .dataframe thead th {\n",
       "        text-align: right;\n",
       "    }\n",
       "</style>\n",
       "<table border=\"1\" class=\"dataframe\">\n",
       "  <thead>\n",
       "    <tr style=\"text-align: right;\">\n",
       "      <th></th>\n",
       "      <th>gene_symbol</th>\n",
       "      <th>HR</th>\n",
       "      <th>pval_cox</th>\n",
       "    </tr>\n",
       "  </thead>\n",
       "  <tbody>\n",
       "    <tr>\n",
       "      <th>0</th>\n",
       "      <td>ASIC1</td>\n",
       "      <td>1.044088</td>\n",
       "      <td>0.713656</td>\n",
       "    </tr>\n",
       "    <tr>\n",
       "      <th>1</th>\n",
       "      <td>AQP8</td>\n",
       "      <td>0.963827</td>\n",
       "      <td>0.553223</td>\n",
       "    </tr>\n",
       "    <tr>\n",
       "      <th>2</th>\n",
       "      <td>CYP27B1</td>\n",
       "      <td>1.027711</td>\n",
       "      <td>0.884152</td>\n",
       "    </tr>\n",
       "    <tr>\n",
       "      <th>3</th>\n",
       "      <td>SLC26A3</td>\n",
       "      <td>1.192476</td>\n",
       "      <td>0.063730</td>\n",
       "    </tr>\n",
       "    <tr>\n",
       "      <th>4</th>\n",
       "      <td>DSG1</td>\n",
       "      <td>0.848517</td>\n",
       "      <td>0.071996</td>\n",
       "    </tr>\n",
       "  </tbody>\n",
       "</table>\n",
       "</div>"
      ],
      "text/plain": [
       "  gene_symbol        HR  pval_cox\n",
       "0       ASIC1  1.044088  0.713656\n",
       "1        AQP8  0.963827  0.553223\n",
       "2     CYP27B1  1.027711  0.884152\n",
       "3     SLC26A3  1.192476  0.063730\n",
       "4        DSG1  0.848517  0.071996"
      ]
     },
     "execution_count": 53,
     "metadata": {},
     "output_type": "execute_result"
    }
   ],
   "source": [
    "# conversion en float\n",
    "time = clinic_data_TCGA_LIHC['os_months'].astype(float)\n",
    "censor = clinic_data_TCGA_LIHC['os_censor'].astype(float)\n",
    "\n",
    "# données de survie\n",
    "survival_data = pd.DataFrame({\n",
    "    'duration': time,\n",
    "    'event': censor\n",
    "})\n",
    "\n",
    "# Initialiser un dataframe pour les résultats de Cox\n",
    "data_cox = pd.DataFrame(columns=[\"gene_symbol\", \"HR\", \"pval_cox\"])\n",
    "\n",
    "# Boucle sur chaque gène\n",
    "for i in range(expression_data_TCGA_LIHC.shape[0]):\n",
    "    gene_data = expression_data_TCGA_LIHC.iloc[i]\n",
    "    \n",
    "    # colonne du gène\n",
    "    gene_name = gene_data['gene_symbol']\n",
    "    df = pd.DataFrame(gene_data.drop(['gene_symbol']).values, columns=[gene_name])\n",
    "\n",
    "    # Sélectionner uniquement la colonne du gène actuel pour le modèle de Cox\n",
    "    X = pd.concat([survival_data, df], axis=1)\n",
    "    X = X.dropna() # suppression des lignes de X contenant des NAN\n",
    "    \n",
    "    # modele de Cox\n",
    "    cph = CoxPHFitter()\n",
    "    cph.fit(X, duration_col='duration', event_col='event')\n",
    "    summary = cph.summary\n",
    "\n",
    "    # Récupérer la valeur p et le hazard ratio pour le gène actuel\n",
    "    hr = summary.loc[gene_name, 'exp(coef)']  # Hazard ratio\n",
    "    pval_cox = summary.loc[gene_name, 'p']  # p-value\n",
    "\n",
    "    # Ajout des résultats au dataframe\n",
    "    data_cox.loc[i] = [gene_name, hr, pval_cox]\n",
    "\n",
    "# Afficher les résultats\n",
    "data_cox.head()"
   ]
  },
  {
   "cell_type": "markdown",
   "id": "f071c543",
   "metadata": {},
   "source": [
    "## Benjamini-Hochberg\n",
    "\n",
    "Nous allons maintenant ajuster les p-valeurs de Cox avec la méthode de Benjamini-Hochberg"
   ]
  },
  {
   "cell_type": "code",
   "execution_count": 54,
   "id": "fcf86f81",
   "metadata": {},
   "outputs": [],
   "source": [
    "# pvals ajustés avec Benjamini-Hochberg\n",
    "data = data_cox['pval_cox'].sort_values().reset_index()\n",
    "pval_cox_adj = multipletests(data['pval_cox'], method='fdr_bh')[1]\n",
    "\n",
    "data_cox = data_cox.loc[data['index']]\n",
    "data_cox['pval_cox_adj'] = pval_cox_adj"
   ]
  },
  {
   "cell_type": "code",
   "execution_count": 55,
   "id": "8c30016a",
   "metadata": {},
   "outputs": [
    {
     "data": {
      "text/html": [
       "<div>\n",
       "<style scoped>\n",
       "    .dataframe tbody tr th:only-of-type {\n",
       "        vertical-align: middle;\n",
       "    }\n",
       "\n",
       "    .dataframe tbody tr th {\n",
       "        vertical-align: top;\n",
       "    }\n",
       "\n",
       "    .dataframe thead th {\n",
       "        text-align: right;\n",
       "    }\n",
       "</style>\n",
       "<table border=\"1\" class=\"dataframe\">\n",
       "  <thead>\n",
       "    <tr style=\"text-align: right;\">\n",
       "      <th></th>\n",
       "      <th>gene_symbol</th>\n",
       "      <th>HR</th>\n",
       "      <th>pval_cox</th>\n",
       "      <th>pval_cox_adj</th>\n",
       "    </tr>\n",
       "  </thead>\n",
       "  <tbody>\n",
       "    <tr>\n",
       "      <th>59</th>\n",
       "      <td>ZFP69B</td>\n",
       "      <td>3.016599</td>\n",
       "      <td>0.000010</td>\n",
       "      <td>0.001067</td>\n",
       "    </tr>\n",
       "    <tr>\n",
       "      <th>108</th>\n",
       "      <td>SNHG4</td>\n",
       "      <td>1.688946</td>\n",
       "      <td>0.000054</td>\n",
       "      <td>0.002937</td>\n",
       "    </tr>\n",
       "    <tr>\n",
       "      <th>82</th>\n",
       "      <td>C5orf58</td>\n",
       "      <td>1.613373</td>\n",
       "      <td>0.000166</td>\n",
       "      <td>0.006023</td>\n",
       "    </tr>\n",
       "    <tr>\n",
       "      <th>53</th>\n",
       "      <td>ERCC6L</td>\n",
       "      <td>1.974202</td>\n",
       "      <td>0.000246</td>\n",
       "      <td>0.006058</td>\n",
       "    </tr>\n",
       "    <tr>\n",
       "      <th>37</th>\n",
       "      <td>POLR3G</td>\n",
       "      <td>2.214898</td>\n",
       "      <td>0.000278</td>\n",
       "      <td>0.006058</td>\n",
       "    </tr>\n",
       "  </tbody>\n",
       "</table>\n",
       "</div>"
      ],
      "text/plain": [
       "    gene_symbol        HR  pval_cox  pval_cox_adj\n",
       "59       ZFP69B  3.016599  0.000010      0.001067\n",
       "108       SNHG4  1.688946  0.000054      0.002937\n",
       "82      C5orf58  1.613373  0.000166      0.006023\n",
       "53       ERCC6L  1.974202  0.000246      0.006058\n",
       "37       POLR3G  2.214898  0.000278      0.006058"
      ]
     },
     "execution_count": 55,
     "metadata": {},
     "output_type": "execute_result"
    }
   ],
   "source": [
    "data_cox.head()"
   ]
  },
  {
   "cell_type": "code",
   "execution_count": 56,
   "id": "e8e2c6d0",
   "metadata": {},
   "outputs": [
    {
     "name": "stdout",
     "output_type": "stream",
     "text": [
      "length of data after filter : 27\n"
     ]
    },
    {
     "data": {
      "text/html": [
       "<div>\n",
       "<style scoped>\n",
       "    .dataframe tbody tr th:only-of-type {\n",
       "        vertical-align: middle;\n",
       "    }\n",
       "\n",
       "    .dataframe tbody tr th {\n",
       "        vertical-align: top;\n",
       "    }\n",
       "\n",
       "    .dataframe thead th {\n",
       "        text-align: right;\n",
       "    }\n",
       "</style>\n",
       "<table border=\"1\" class=\"dataframe\">\n",
       "  <thead>\n",
       "    <tr style=\"text-align: right;\">\n",
       "      <th></th>\n",
       "      <th>gene_symbol</th>\n",
       "      <th>HR</th>\n",
       "      <th>pval_cox</th>\n",
       "      <th>pval_cox_adj</th>\n",
       "    </tr>\n",
       "  </thead>\n",
       "  <tbody>\n",
       "    <tr>\n",
       "      <th>59</th>\n",
       "      <td>ZFP69B</td>\n",
       "      <td>3.016599</td>\n",
       "      <td>0.000010</td>\n",
       "      <td>0.001067</td>\n",
       "    </tr>\n",
       "    <tr>\n",
       "      <th>108</th>\n",
       "      <td>SNHG4</td>\n",
       "      <td>1.688946</td>\n",
       "      <td>0.000054</td>\n",
       "      <td>0.002937</td>\n",
       "    </tr>\n",
       "    <tr>\n",
       "      <th>82</th>\n",
       "      <td>C5orf58</td>\n",
       "      <td>1.613373</td>\n",
       "      <td>0.000166</td>\n",
       "      <td>0.006023</td>\n",
       "    </tr>\n",
       "    <tr>\n",
       "      <th>53</th>\n",
       "      <td>ERCC6L</td>\n",
       "      <td>1.974202</td>\n",
       "      <td>0.000246</td>\n",
       "      <td>0.006058</td>\n",
       "    </tr>\n",
       "    <tr>\n",
       "      <th>37</th>\n",
       "      <td>POLR3G</td>\n",
       "      <td>2.214898</td>\n",
       "      <td>0.000278</td>\n",
       "      <td>0.006058</td>\n",
       "    </tr>\n",
       "  </tbody>\n",
       "</table>\n",
       "</div>"
      ],
      "text/plain": [
       "    gene_symbol        HR  pval_cox  pval_cox_adj\n",
       "59       ZFP69B  3.016599  0.000010      0.001067\n",
       "108       SNHG4  1.688946  0.000054      0.002937\n",
       "82      C5orf58  1.613373  0.000166      0.006023\n",
       "53       ERCC6L  1.974202  0.000246      0.006058\n",
       "37       POLR3G  2.214898  0.000278      0.006058"
      ]
     },
     "execution_count": 56,
     "metadata": {},
     "output_type": "execute_result"
    }
   ],
   "source": [
    "# filtrage \n",
    "\n",
    "data_filtre = data_cox[(data_cox['HR'] > 1.2) & (data_cox['pval_cox_adj'] < 0.1)]\n",
    "print(f\"length of data after filter : {len(data_filtre)}\")\n",
    "data_filtre.head()"
   ]
  },
  {
   "cell_type": "code",
   "execution_count": 57,
   "id": "2327be84",
   "metadata": {},
   "outputs": [],
   "source": [
    "data_final = data_cox[(data_cox['HR'] > 1.2) & (data_cox['pval_cox'] < 0.05)]"
   ]
  },
  {
   "cell_type": "code",
   "execution_count": 58,
   "id": "c560a7dd",
   "metadata": {},
   "outputs": [
    {
     "data": {
      "text/plain": [
       "30"
      ]
     },
     "execution_count": 58,
     "metadata": {},
     "output_type": "execute_result"
    }
   ],
   "source": [
    "len(data_final['gene_symbol']) "
   ]
  },
  {
   "cell_type": "code",
   "execution_count": 59,
   "id": "30aae8d5",
   "metadata": {},
   "outputs": [],
   "source": [
    "# gènes obtenues par Katia\n",
    "\n",
    "df2 = ['ATP6V1E2', 'B4GALNT1', 'C5orf58', 'CCDC121', 'CCDC138', 'CENPI', 'DEAF1', 'DSCC1', 'DUSP18', 'ENAM', 'ERCC6L', \n",
    "       'FAM133A', 'HOMER1', 'KIF4A', 'LIN28B', 'MYCN', 'OIP5', 'PIMREG', 'POLR3G', 'RGS5', 'RIBC2', 'RIMS3', 'RNASE2', \n",
    "       'ROR1', 'SCML2', 'SLC26A3', 'SLC39A10', 'SNHG4', 'SPATA24', 'SPC24', 'SPCS2P4', 'STXBP4', 'SWT1', 'TET1', 'TICRR', \n",
    "       'TNFSF4', 'ULBP2', 'USP13', 'ZFP69B', 'ZIC2', 'ZNF233', 'ZNF431']\n"
   ]
  },
  {
   "cell_type": "code",
   "execution_count": 44,
   "id": "74a97e79",
   "metadata": {},
   "outputs": [
    {
     "data": {
      "text/plain": [
       "array(['ZFP69B', 'SNHG4', 'C5orf58', 'ERCC6L', 'POLR3G', 'RIMS3', 'CENPI',\n",
       "       'MYCN', 'SPCS2P4', 'SPESP1', 'SLC39A10', 'CTAG1A', 'ENAM',\n",
       "       'HOMER1', 'RIBC2', 'DDX43', 'DUSP18', 'TICRR', 'KIF4A', 'GNGT1',\n",
       "       'LIN28B', 'TET1', 'SOX2', 'CDKL3', 'DNAAF11', 'DSCC1', 'PABPC3',\n",
       "       'SCML2', 'PIMREG', 'OIP5'], dtype=object)"
      ]
     },
     "execution_count": 44,
     "metadata": {},
     "output_type": "execute_result"
    }
   ],
   "source": [
    "data_final['gene_symbol'].values"
   ]
  },
  {
   "cell_type": "markdown",
   "id": "b3a91de4",
   "metadata": {},
   "source": [
    "data_final contient 30 gènes obtenus après avoir réalisé le modèle de Cox sur les 109 gènes fréquemment activés dans les tumeurs. Ces 30 gènes ont des p_valeurs < 0.05 et un hazard_ratio > 1.2  . "
   ]
  },
  {
   "cell_type": "code",
   "execution_count": null,
   "id": "646fb828",
   "metadata": {},
   "outputs": [],
   "source": []
  }
 ],
 "metadata": {
  "kernelspec": {
   "display_name": "Python 3 (ipykernel)",
   "language": "python",
   "name": "python3"
  },
  "language_info": {
   "codemirror_mode": {
    "name": "ipython",
    "version": 3
   },
   "file_extension": ".py",
   "mimetype": "text/x-python",
   "name": "python",
   "nbconvert_exporter": "python",
   "pygments_lexer": "ipython3",
   "version": "3.9.13"
  }
 },
 "nbformat": 4,
 "nbformat_minor": 5
}
